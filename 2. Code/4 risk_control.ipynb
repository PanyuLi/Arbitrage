{
 "cells": [
  {
   "cell_type": "code",
   "execution_count": 1,
   "metadata": {},
   "outputs": [],
   "source": [
    "import pandas as pd\n",
    "import numpy as np"
   ]
  },
  {
   "cell_type": "code",
   "execution_count": 2,
   "metadata": {},
   "outputs": [],
   "source": [
    "df = pd.read_excel('hedge.xlsx', index_col=0)\n",
    "df['Vol40'] = np.log(df['Hedge']+1).shift(1).rolling(40).std() * np.sqrt(250)\n",
    "df['Proportion'] = 0.05 / df['Vol40']"
   ]
  },
  {
   "cell_type": "code",
   "execution_count": 5,
   "metadata": {},
   "outputs": [],
   "source": [
    "df['Proportion'] = df['Proportion'].fillna(1)"
   ]
  },
  {
   "cell_type": "code",
   "execution_count": 6,
   "metadata": {},
   "outputs": [],
   "source": [
    "df[['LONG_2', 'LONG_3', 'SHORT_1', 'SHORT_2']] = df[['LONG_2', 'LONG_3', 'SHORT_1', 'SHORT_2']].multiply(df[\"Proportion\"], axis=\"index\")"
   ]
  },
  {
   "cell_type": "code",
   "execution_count": 7,
   "metadata": {},
   "outputs": [],
   "source": [
    "df.to_excel('risk_control.xlsx')"
   ]
  },
  {
   "cell_type": "code",
   "execution_count": 8,
   "metadata": {},
   "outputs": [
    {
     "data": {
      "text/html": [
       "<div>\n",
       "<style scoped>\n",
       "    .dataframe tbody tr th:only-of-type {\n",
       "        vertical-align: middle;\n",
       "    }\n",
       "\n",
       "    .dataframe tbody tr th {\n",
       "        vertical-align: top;\n",
       "    }\n",
       "\n",
       "    .dataframe thead th {\n",
       "        text-align: right;\n",
       "    }\n",
       "</style>\n",
       "<table border=\"1\" class=\"dataframe\">\n",
       "  <thead>\n",
       "    <tr style=\"text-align: right;\">\n",
       "      <th></th>\n",
       "      <th>LONG_2</th>\n",
       "      <th>LONG_3</th>\n",
       "      <th>SHORT_1</th>\n",
       "      <th>SHORT_2</th>\n",
       "    </tr>\n",
       "    <tr>\n",
       "      <th>Date</th>\n",
       "      <th></th>\n",
       "      <th></th>\n",
       "      <th></th>\n",
       "      <th></th>\n",
       "    </tr>\n",
       "  </thead>\n",
       "  <tbody>\n",
       "    <tr>\n",
       "      <th>2007-01-03</th>\n",
       "      <td>95.000000</td>\n",
       "      <td>5.000000</td>\n",
       "      <td>0.000000</td>\n",
       "      <td>0.000000</td>\n",
       "    </tr>\n",
       "    <tr>\n",
       "      <th>2007-01-04</th>\n",
       "      <td>90.000000</td>\n",
       "      <td>10.000000</td>\n",
       "      <td>0.000000</td>\n",
       "      <td>0.000000</td>\n",
       "    </tr>\n",
       "    <tr>\n",
       "      <th>2007-01-05</th>\n",
       "      <td>85.000000</td>\n",
       "      <td>15.000000</td>\n",
       "      <td>0.000000</td>\n",
       "      <td>0.000000</td>\n",
       "    </tr>\n",
       "    <tr>\n",
       "      <th>2007-01-08</th>\n",
       "      <td>80.000000</td>\n",
       "      <td>20.000000</td>\n",
       "      <td>16.000000</td>\n",
       "      <td>4.000000</td>\n",
       "    </tr>\n",
       "    <tr>\n",
       "      <th>2007-01-09</th>\n",
       "      <td>75.000000</td>\n",
       "      <td>25.000000</td>\n",
       "      <td>30.000000</td>\n",
       "      <td>10.000000</td>\n",
       "    </tr>\n",
       "    <tr>\n",
       "      <th>...</th>\n",
       "      <td>...</td>\n",
       "      <td>...</td>\n",
       "      <td>...</td>\n",
       "      <td>...</td>\n",
       "    </tr>\n",
       "    <tr>\n",
       "      <th>2020-08-25</th>\n",
       "      <td>9.800191</td>\n",
       "      <td>41.650810</td>\n",
       "      <td>9.800191</td>\n",
       "      <td>41.650810</td>\n",
       "    </tr>\n",
       "    <tr>\n",
       "      <th>2020-08-26</th>\n",
       "      <td>8.412511</td>\n",
       "      <td>50.475066</td>\n",
       "      <td>8.412511</td>\n",
       "      <td>50.475066</td>\n",
       "    </tr>\n",
       "    <tr>\n",
       "      <th>2020-08-27</th>\n",
       "      <td>6.195361</td>\n",
       "      <td>58.855934</td>\n",
       "      <td>6.195361</td>\n",
       "      <td>58.855934</td>\n",
       "    </tr>\n",
       "    <tr>\n",
       "      <th>2020-08-28</th>\n",
       "      <td>3.239333</td>\n",
       "      <td>64.786663</td>\n",
       "      <td>3.239333</td>\n",
       "      <td>64.786663</td>\n",
       "    </tr>\n",
       "    <tr>\n",
       "      <th>2020-08-31</th>\n",
       "      <td>0.000000</td>\n",
       "      <td>69.264770</td>\n",
       "      <td>0.000000</td>\n",
       "      <td>69.264770</td>\n",
       "    </tr>\n",
       "  </tbody>\n",
       "</table>\n",
       "<p>3440 rows × 4 columns</p>\n",
       "</div>"
      ],
      "text/plain": [
       "               LONG_2     LONG_3    SHORT_1    SHORT_2\n",
       "Date                                                  \n",
       "2007-01-03  95.000000   5.000000   0.000000   0.000000\n",
       "2007-01-04  90.000000  10.000000   0.000000   0.000000\n",
       "2007-01-05  85.000000  15.000000   0.000000   0.000000\n",
       "2007-01-08  80.000000  20.000000  16.000000   4.000000\n",
       "2007-01-09  75.000000  25.000000  30.000000  10.000000\n",
       "...               ...        ...        ...        ...\n",
       "2020-08-25   9.800191  41.650810   9.800191  41.650810\n",
       "2020-08-26   8.412511  50.475066   8.412511  50.475066\n",
       "2020-08-27   6.195361  58.855934   6.195361  58.855934\n",
       "2020-08-28   3.239333  64.786663   3.239333  64.786663\n",
       "2020-08-31   0.000000  69.264770   0.000000  69.264770\n",
       "\n",
       "[3440 rows x 4 columns]"
      ]
     },
     "execution_count": 8,
     "metadata": {},
     "output_type": "execute_result"
    }
   ],
   "source": [
    "df[['LONG_2', 'LONG_3', 'SHORT_1', 'SHORT_2']]"
   ]
  },
  {
   "cell_type": "code",
   "execution_count": 3,
   "metadata": {},
   "outputs": [
    {
     "data": {
      "text/plain": [
       "Date\n",
       "2007-01-03         NaN\n",
       "2007-01-04         NaN\n",
       "2007-01-05         NaN\n",
       "2007-01-08         NaN\n",
       "2007-01-09         NaN\n",
       "                ...   \n",
       "2020-08-25    0.097180\n",
       "2020-08-26    0.084908\n",
       "2020-08-27    0.076862\n",
       "2020-08-28    0.073501\n",
       "2020-08-31    0.072187\n",
       "Name: Hedge, Length: 3440, dtype: float64"
      ]
     },
     "execution_count": 3,
     "metadata": {},
     "output_type": "execute_result"
    }
   ],
   "source": [
    "np.log(df['Hedge']+1).shift(1).rolling(40).std() * np.sqrt(250)"
   ]
  },
  {
   "cell_type": "code",
   "execution_count": null,
   "metadata": {},
   "outputs": [],
   "source": []
  }
 ],
 "metadata": {
  "kernelspec": {
   "display_name": "Python 3",
   "language": "python",
   "name": "python3"
  },
  "language_info": {
   "codemirror_mode": {
    "name": "ipython",
    "version": 3
   },
   "file_extension": ".py",
   "mimetype": "text/x-python",
   "name": "python",
   "nbconvert_exporter": "python",
   "pygments_lexer": "ipython3",
   "version": "3.7.6"
  }
 },
 "nbformat": 4,
 "nbformat_minor": 4
}
